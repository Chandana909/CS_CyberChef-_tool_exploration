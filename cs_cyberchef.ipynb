{
  "nbformat": 4,
  "nbformat_minor": 0,
  "metadata": {
    "colab": {
      "provenance": [],
      "authorship_tag": "ABX9TyMkET7IwmmUhBo1DSzioe/I",
      "include_colab_link": true
    },
    "kernelspec": {
      "name": "python3",
      "display_name": "Python 3"
    },
    "language_info": {
      "name": "python"
    }
  },
  "cells": [
    {
      "cell_type": "markdown",
      "metadata": {
        "id": "view-in-github",
        "colab_type": "text"
      },
      "source": [
        "<a href=\"https://colab.research.google.com/github/Chandana909/CS_CyberChef-_tool_exploration/blob/main/cs_cyberchef.ipynb\" target=\"_parent\"><img src=\"https://colab.research.google.com/assets/colab-badge.svg\" alt=\"Open In Colab\"/></a>"
      ]
    },
    {
      "cell_type": "markdown",
      "source": [
        "# 🔐 Cyber Security Project - AES Encryption & Decryption  \n",
        "**By:** D Chandana  \n",
        "**Roll No:** 160123737012  \n",
        "**Class:** V Sem, IT 1  \n",
        "\n",
        "---\n",
        "\n",
        "## 📌 Project Overview  \n",
        "This project demonstrates the use of **AES (Advanced Encryption Standard)** in **CBC (Cipher Block Chaining)** mode for both **text messages** and **files**.  \n",
        "\n",
        "It includes:  \n",
        "- AES **encryption/decryption of user input text**  \n",
        "- AES **encryption/decryption of files**  \n",
        "- Generating **Hex and Base64 outputs**  \n",
        "- Using the outputs with **CyberChef** for verification  \n",
        "\n",
        "---\n"
      ],
      "metadata": {
        "id": "Sxbtmz4X53i_"
      }
    },
    {
      "cell_type": "markdown",
      "source": [
        "## 🔑 AES Text Encryption/Decryption\n",
        "This section allows you to:  \n",
        "1. Enter a **custom message**.  \n",
        "2. Encrypt the message using AES-CBC with a **fixed Key and IV**.  \n",
        "3. View the encrypted message in both **Hex** and **Base64** formats.  \n",
        "4. Decrypt the message back to the original plaintext.  \n",
        "\n",
        "➡️ **CyberChef Testing:**  \n",
        "- Copy the **Hex ciphertext** into CyberChef Input.  \n",
        "- Drag **AES Decrypt** → Mode = CBC, Padding = PKCS7.  \n",
        "- Paste the **Key and IV (hex)** from output.  \n",
        "- Bake → Original message will appear.\n"
      ],
      "metadata": {
        "id": "kOwMbnxg6UfZ"
      }
    },
    {
      "cell_type": "code",
      "source": [
        "# ------------------------------\n",
        "# Cyber Security Project - AES Encryption/Decryption\n",
        "# By: D Chandana, Roll No: 160123737012, Class: V Sem IT 1\n",
        "# ------------------------------\n",
        "\n",
        "from cryptography.hazmat.primitives.ciphers import Cipher, algorithms, modes\n",
        "from cryptography.hazmat.primitives import padding\n",
        "from base64 import b64encode\n",
        "\n",
        "# ------------------------------\n",
        "# Step 1: Fixed AES Key and IV\n",
        "# ------------------------------\n",
        "aes_key = bytes.fromhex(\"6c318977531e763533d3ca6eb242d412\")\n",
        "iv = bytes.fromhex(\"89ea40e81d6b0cb2f4c6801d8b7cfa15\")\n",
        "\n",
        "print(\"=== AES Parameters ===\")\n",
        "print(\"AES Key (Hex, copy to CyberChef):\", aes_key.hex())\n",
        "print(\"IV (Hex, copy to CyberChef):\", iv.hex())\n",
        "\n",
        "# ------------------------------\n",
        "# Step 2: Encrypt User Input\n",
        "# ------------------------------\n",
        "plaintext = input(\"\\nEnter a message to encrypt: \").encode()\n",
        "\n",
        "# PKCS7 Padding\n",
        "padder = padding.PKCS7(128).padder()\n",
        "padded_data = padder.update(plaintext) + padder.finalize()\n",
        "\n",
        "# AES-CBC Encryption\n",
        "cipher = Cipher(algorithms.AES(aes_key), modes.CBC(iv))\n",
        "encryptor = cipher.encryptor()\n",
        "ciphertext = encryptor.update(padded_data) + encryptor.finalize()\n",
        "\n",
        "ciphertext_hex = ciphertext.hex()\n",
        "ciphertext_b64 = b64encode(ciphertext).decode()\n",
        "\n",
        "print(\"\\n=== Encryption Output ===\")\n",
        "print(\"Ciphertext (Hex):\", ciphertext_hex)\n",
        "print(\"Ciphertext (Base64):\", ciphertext_b64)\n",
        "\n",
        "# ------------------------------\n",
        "# Step 3: Decrypt Message\n",
        "# ------------------------------\n",
        "decryptor = cipher.decryptor()\n",
        "decrypted_padded = decryptor.update(ciphertext) + decryptor.finalize()\n",
        "\n",
        "# Remove PKCS7 Padding\n",
        "unpadder = padding.PKCS7(128).unpadder()\n",
        "decrypted = unpadder.update(decrypted_padded) + unpadder.finalize()\n",
        "\n",
        "print(\"\\n=== Decryption Output ===\")\n",
        "print(\"Recovered Plaintext:\", decrypted.decode())\n"
      ],
      "metadata": {
        "colab": {
          "base_uri": "https://localhost:8080/"
        },
        "id": "EAhREA-x6XIg",
        "outputId": "bb7297e4-dcc8-4c42-c099-889558208b24"
      },
      "execution_count": 1,
      "outputs": [
        {
          "output_type": "stream",
          "name": "stdout",
          "text": [
            "=== AES Parameters ===\n",
            "AES Key (Hex, copy to CyberChef): 6c318977531e763533d3ca6eb242d412\n",
            "IV (Hex, copy to CyberChef): 89ea40e81d6b0cb2f4c6801d8b7cfa15\n",
            "\n",
            "Enter a message to encrypt: sample text 012\n",
            "\n",
            "=== Encryption Output ===\n",
            "Ciphertext (Hex): 2eb1be25c1ae7e999efea803a6df0499\n",
            "Ciphertext (Base64): LrG+JcGufpme/qgDpt8EmQ==\n",
            "\n",
            "=== Decryption Output ===\n",
            "Recovered Plaintext: sample text 012\n"
          ]
        }
      ]
    },
    {
      "cell_type": "markdown",
      "source": [
        "## 📂 AES File Encryption/Decryption\n",
        "This section demonstrates **AES-CBC file encryption and decryption**.  \n",
        "\n",
        "Steps:  \n",
        "1. Upload any file.  \n",
        "2. The file will be encrypted into a **Hex file** (for CyberChef).  \n",
        "3. The same file will then be decrypted back to its original form for verification.  \n",
        "4. Both files will be downloaded automatically.\n",
        "\n",
        "➡️ **CyberChef Testing (File):**  \n",
        "- Open the `.hex` encrypted file in CyberChef.  \n",
        "- Input type = Hex.  \n",
        "- Drag **AES Decrypt** → Mode = CBC, Padding = PKCS7.  \n",
        "- Paste the **Key and IV (hex)** from Python output.  \n",
        "- Bake → Original file contents will appear.\n"
      ],
      "metadata": {
        "id": "Kv7XzJyz6c0Q"
      }
    },
    {
      "cell_type": "code",
      "source": [
        "# ------------------------------\n",
        "# AES File Encryption/Decryption (Hex for CyberChef)\n",
        "# ------------------------------\n",
        "from cryptography.hazmat.primitives.ciphers import Cipher, algorithms, modes\n",
        "from cryptography.hazmat.primitives import padding\n",
        "from google.colab import files\n",
        "\n",
        "# Fixed AES Key & IV\n",
        "aes_key = bytes.fromhex(\"6c318977531e763533d3ca6eb242d412\")\n",
        "iv = bytes.fromhex(\"89ea40e81d6b0cb2f4c6801d8b7cfa15\")\n",
        "\n",
        "print(\"=== AES Parameters ===\")\n",
        "print(\"AES Key (Hex, copy to CyberChef):\", aes_key.hex())\n",
        "print(\"IV (Hex, copy to CyberChef):\", iv.hex())\n",
        "\n",
        "# Upload file\n",
        "uploaded = files.upload()\n",
        "for filename in uploaded.keys():\n",
        "    print(\"\\n--- Processing File:\", filename, \"---\")\n",
        "    with open(filename, \"rb\") as f:\n",
        "        plaintext = f.read()\n",
        "    print(\"Original File Size:\", len(plaintext), \"bytes\")\n",
        "\n",
        "    # Padding\n",
        "    padder = padding.PKCS7(128).padder()\n",
        "    padded_data = padder.update(plaintext) + padder.finalize()\n",
        "\n",
        "    # Encrypt\n",
        "    cipher = Cipher(algorithms.AES(aes_key), modes.CBC(iv))\n",
        "    encryptor = cipher.encryptor()\n",
        "    ciphertext = encryptor.update(padded_data) + encryptor.finalize()\n",
        "\n",
        "    # Save encrypted file (HEX)\n",
        "    hex_ciphertext = ciphertext.hex()\n",
        "    encrypted_filename = \"encrypted_\" + filename + \".hex\"\n",
        "    with open(encrypted_filename, \"w\") as f:\n",
        "        f.write(hex_ciphertext)\n",
        "    files.download(encrypted_filename)\n",
        "    print(\"Encrypted file saved as:\", encrypted_filename)\n",
        "\n",
        "    # Decrypt for verification\n",
        "    decryptor = cipher.decryptor()\n",
        "    decrypted_padded = decryptor.update(ciphertext) + decryptor.finalize()\n",
        "    unpadder = padding.PKCS7(128).unpadder()\n",
        "    decrypted = unpadder.update(decrypted_padded) + unpadder.finalize()\n",
        "\n",
        "    decrypted_filename = \"decrypted_\" + filename\n",
        "    with open(decrypted_filename, \"wb\") as f:\n",
        "        f.write(decrypted)\n",
        "    files.download(decrypted_filename)\n",
        "    print(\"Decrypted file saved as:\", decrypted_filename)\n"
      ],
      "metadata": {
        "colab": {
          "base_uri": "https://localhost:8080/",
          "height": 232
        },
        "id": "yHAaczND6fyE",
        "outputId": "8fd8c4dd-e036-4668-bc7c-8a36131eb1c8"
      },
      "execution_count": 2,
      "outputs": [
        {
          "output_type": "stream",
          "name": "stdout",
          "text": [
            "=== AES Parameters ===\n",
            "AES Key (Hex, copy to CyberChef): 6c318977531e763533d3ca6eb242d412\n",
            "IV (Hex, copy to CyberChef): 89ea40e81d6b0cb2f4c6801d8b7cfa15\n"
          ]
        },
        {
          "output_type": "display_data",
          "data": {
            "text/plain": [
              "<IPython.core.display.HTML object>"
            ],
            "text/html": [
              "\n",
              "     <input type=\"file\" id=\"files-b734bff5-8777-4a79-81e8-94931b5d2903\" name=\"files[]\" multiple disabled\n",
              "        style=\"border:none\" />\n",
              "     <output id=\"result-b734bff5-8777-4a79-81e8-94931b5d2903\">\n",
              "      Upload widget is only available when the cell has been executed in the\n",
              "      current browser session. Please rerun this cell to enable.\n",
              "      </output>\n",
              "      <script>// Copyright 2017 Google LLC\n",
              "//\n",
              "// Licensed under the Apache License, Version 2.0 (the \"License\");\n",
              "// you may not use this file except in compliance with the License.\n",
              "// You may obtain a copy of the License at\n",
              "//\n",
              "//      http://www.apache.org/licenses/LICENSE-2.0\n",
              "//\n",
              "// Unless required by applicable law or agreed to in writing, software\n",
              "// distributed under the License is distributed on an \"AS IS\" BASIS,\n",
              "// WITHOUT WARRANTIES OR CONDITIONS OF ANY KIND, either express or implied.\n",
              "// See the License for the specific language governing permissions and\n",
              "// limitations under the License.\n",
              "\n",
              "/**\n",
              " * @fileoverview Helpers for google.colab Python module.\n",
              " */\n",
              "(function(scope) {\n",
              "function span(text, styleAttributes = {}) {\n",
              "  const element = document.createElement('span');\n",
              "  element.textContent = text;\n",
              "  for (const key of Object.keys(styleAttributes)) {\n",
              "    element.style[key] = styleAttributes[key];\n",
              "  }\n",
              "  return element;\n",
              "}\n",
              "\n",
              "// Max number of bytes which will be uploaded at a time.\n",
              "const MAX_PAYLOAD_SIZE = 100 * 1024;\n",
              "\n",
              "function _uploadFiles(inputId, outputId) {\n",
              "  const steps = uploadFilesStep(inputId, outputId);\n",
              "  const outputElement = document.getElementById(outputId);\n",
              "  // Cache steps on the outputElement to make it available for the next call\n",
              "  // to uploadFilesContinue from Python.\n",
              "  outputElement.steps = steps;\n",
              "\n",
              "  return _uploadFilesContinue(outputId);\n",
              "}\n",
              "\n",
              "// This is roughly an async generator (not supported in the browser yet),\n",
              "// where there are multiple asynchronous steps and the Python side is going\n",
              "// to poll for completion of each step.\n",
              "// This uses a Promise to block the python side on completion of each step,\n",
              "// then passes the result of the previous step as the input to the next step.\n",
              "function _uploadFilesContinue(outputId) {\n",
              "  const outputElement = document.getElementById(outputId);\n",
              "  const steps = outputElement.steps;\n",
              "\n",
              "  const next = steps.next(outputElement.lastPromiseValue);\n",
              "  return Promise.resolve(next.value.promise).then((value) => {\n",
              "    // Cache the last promise value to make it available to the next\n",
              "    // step of the generator.\n",
              "    outputElement.lastPromiseValue = value;\n",
              "    return next.value.response;\n",
              "  });\n",
              "}\n",
              "\n",
              "/**\n",
              " * Generator function which is called between each async step of the upload\n",
              " * process.\n",
              " * @param {string} inputId Element ID of the input file picker element.\n",
              " * @param {string} outputId Element ID of the output display.\n",
              " * @return {!Iterable<!Object>} Iterable of next steps.\n",
              " */\n",
              "function* uploadFilesStep(inputId, outputId) {\n",
              "  const inputElement = document.getElementById(inputId);\n",
              "  inputElement.disabled = false;\n",
              "\n",
              "  const outputElement = document.getElementById(outputId);\n",
              "  outputElement.innerHTML = '';\n",
              "\n",
              "  const pickedPromise = new Promise((resolve) => {\n",
              "    inputElement.addEventListener('change', (e) => {\n",
              "      resolve(e.target.files);\n",
              "    });\n",
              "  });\n",
              "\n",
              "  const cancel = document.createElement('button');\n",
              "  inputElement.parentElement.appendChild(cancel);\n",
              "  cancel.textContent = 'Cancel upload';\n",
              "  const cancelPromise = new Promise((resolve) => {\n",
              "    cancel.onclick = () => {\n",
              "      resolve(null);\n",
              "    };\n",
              "  });\n",
              "\n",
              "  // Wait for the user to pick the files.\n",
              "  const files = yield {\n",
              "    promise: Promise.race([pickedPromise, cancelPromise]),\n",
              "    response: {\n",
              "      action: 'starting',\n",
              "    }\n",
              "  };\n",
              "\n",
              "  cancel.remove();\n",
              "\n",
              "  // Disable the input element since further picks are not allowed.\n",
              "  inputElement.disabled = true;\n",
              "\n",
              "  if (!files) {\n",
              "    return {\n",
              "      response: {\n",
              "        action: 'complete',\n",
              "      }\n",
              "    };\n",
              "  }\n",
              "\n",
              "  for (const file of files) {\n",
              "    const li = document.createElement('li');\n",
              "    li.append(span(file.name, {fontWeight: 'bold'}));\n",
              "    li.append(span(\n",
              "        `(${file.type || 'n/a'}) - ${file.size} bytes, ` +\n",
              "        `last modified: ${\n",
              "            file.lastModifiedDate ? file.lastModifiedDate.toLocaleDateString() :\n",
              "                                    'n/a'} - `));\n",
              "    const percent = span('0% done');\n",
              "    li.appendChild(percent);\n",
              "\n",
              "    outputElement.appendChild(li);\n",
              "\n",
              "    const fileDataPromise = new Promise((resolve) => {\n",
              "      const reader = new FileReader();\n",
              "      reader.onload = (e) => {\n",
              "        resolve(e.target.result);\n",
              "      };\n",
              "      reader.readAsArrayBuffer(file);\n",
              "    });\n",
              "    // Wait for the data to be ready.\n",
              "    let fileData = yield {\n",
              "      promise: fileDataPromise,\n",
              "      response: {\n",
              "        action: 'continue',\n",
              "      }\n",
              "    };\n",
              "\n",
              "    // Use a chunked sending to avoid message size limits. See b/62115660.\n",
              "    let position = 0;\n",
              "    do {\n",
              "      const length = Math.min(fileData.byteLength - position, MAX_PAYLOAD_SIZE);\n",
              "      const chunk = new Uint8Array(fileData, position, length);\n",
              "      position += length;\n",
              "\n",
              "      const base64 = btoa(String.fromCharCode.apply(null, chunk));\n",
              "      yield {\n",
              "        response: {\n",
              "          action: 'append',\n",
              "          file: file.name,\n",
              "          data: base64,\n",
              "        },\n",
              "      };\n",
              "\n",
              "      let percentDone = fileData.byteLength === 0 ?\n",
              "          100 :\n",
              "          Math.round((position / fileData.byteLength) * 100);\n",
              "      percent.textContent = `${percentDone}% done`;\n",
              "\n",
              "    } while (position < fileData.byteLength);\n",
              "  }\n",
              "\n",
              "  // All done.\n",
              "  yield {\n",
              "    response: {\n",
              "      action: 'complete',\n",
              "    }\n",
              "  };\n",
              "}\n",
              "\n",
              "scope.google = scope.google || {};\n",
              "scope.google.colab = scope.google.colab || {};\n",
              "scope.google.colab._files = {\n",
              "  _uploadFiles,\n",
              "  _uploadFilesContinue,\n",
              "};\n",
              "})(self);\n",
              "</script> "
            ]
          },
          "metadata": {}
        },
        {
          "output_type": "stream",
          "name": "stdout",
          "text": [
            "Saving LoremIpsumSampleText.docx to LoremIpsumSampleText.docx\n",
            "\n",
            "--- Processing File: LoremIpsumSampleText.docx ---\n",
            "Original File Size: 14590 bytes\n"
          ]
        },
        {
          "output_type": "display_data",
          "data": {
            "text/plain": [
              "<IPython.core.display.Javascript object>"
            ],
            "application/javascript": [
              "\n",
              "    async function download(id, filename, size) {\n",
              "      if (!google.colab.kernel.accessAllowed) {\n",
              "        return;\n",
              "      }\n",
              "      const div = document.createElement('div');\n",
              "      const label = document.createElement('label');\n",
              "      label.textContent = `Downloading \"${filename}\": `;\n",
              "      div.appendChild(label);\n",
              "      const progress = document.createElement('progress');\n",
              "      progress.max = size;\n",
              "      div.appendChild(progress);\n",
              "      document.body.appendChild(div);\n",
              "\n",
              "      const buffers = [];\n",
              "      let downloaded = 0;\n",
              "\n",
              "      const channel = await google.colab.kernel.comms.open(id);\n",
              "      // Send a message to notify the kernel that we're ready.\n",
              "      channel.send({})\n",
              "\n",
              "      for await (const message of channel.messages) {\n",
              "        // Send a message to notify the kernel that we're ready.\n",
              "        channel.send({})\n",
              "        if (message.buffers) {\n",
              "          for (const buffer of message.buffers) {\n",
              "            buffers.push(buffer);\n",
              "            downloaded += buffer.byteLength;\n",
              "            progress.value = downloaded;\n",
              "          }\n",
              "        }\n",
              "      }\n",
              "      const blob = new Blob(buffers, {type: 'application/binary'});\n",
              "      const a = document.createElement('a');\n",
              "      a.href = window.URL.createObjectURL(blob);\n",
              "      a.download = filename;\n",
              "      div.appendChild(a);\n",
              "      a.click();\n",
              "      div.remove();\n",
              "    }\n",
              "  "
            ]
          },
          "metadata": {}
        },
        {
          "output_type": "display_data",
          "data": {
            "text/plain": [
              "<IPython.core.display.Javascript object>"
            ],
            "application/javascript": [
              "download(\"download_63788d9c-16a7-48b0-a594-bb85c1c29195\", \"encrypted_LoremIpsumSampleText.docx.hex\", 29184)"
            ]
          },
          "metadata": {}
        },
        {
          "output_type": "stream",
          "name": "stdout",
          "text": [
            "Encrypted file saved as: encrypted_LoremIpsumSampleText.docx.hex\n"
          ]
        },
        {
          "output_type": "display_data",
          "data": {
            "text/plain": [
              "<IPython.core.display.Javascript object>"
            ],
            "application/javascript": [
              "\n",
              "    async function download(id, filename, size) {\n",
              "      if (!google.colab.kernel.accessAllowed) {\n",
              "        return;\n",
              "      }\n",
              "      const div = document.createElement('div');\n",
              "      const label = document.createElement('label');\n",
              "      label.textContent = `Downloading \"${filename}\": `;\n",
              "      div.appendChild(label);\n",
              "      const progress = document.createElement('progress');\n",
              "      progress.max = size;\n",
              "      div.appendChild(progress);\n",
              "      document.body.appendChild(div);\n",
              "\n",
              "      const buffers = [];\n",
              "      let downloaded = 0;\n",
              "\n",
              "      const channel = await google.colab.kernel.comms.open(id);\n",
              "      // Send a message to notify the kernel that we're ready.\n",
              "      channel.send({})\n",
              "\n",
              "      for await (const message of channel.messages) {\n",
              "        // Send a message to notify the kernel that we're ready.\n",
              "        channel.send({})\n",
              "        if (message.buffers) {\n",
              "          for (const buffer of message.buffers) {\n",
              "            buffers.push(buffer);\n",
              "            downloaded += buffer.byteLength;\n",
              "            progress.value = downloaded;\n",
              "          }\n",
              "        }\n",
              "      }\n",
              "      const blob = new Blob(buffers, {type: 'application/binary'});\n",
              "      const a = document.createElement('a');\n",
              "      a.href = window.URL.createObjectURL(blob);\n",
              "      a.download = filename;\n",
              "      div.appendChild(a);\n",
              "      a.click();\n",
              "      div.remove();\n",
              "    }\n",
              "  "
            ]
          },
          "metadata": {}
        },
        {
          "output_type": "display_data",
          "data": {
            "text/plain": [
              "<IPython.core.display.Javascript object>"
            ],
            "application/javascript": [
              "download(\"download_d2105283-1f1d-4876-9c0d-307322505020\", \"decrypted_LoremIpsumSampleText.docx\", 14590)"
            ]
          },
          "metadata": {}
        },
        {
          "output_type": "stream",
          "name": "stdout",
          "text": [
            "Decrypted file saved as: decrypted_LoremIpsumSampleText.docx\n"
          ]
        }
      ]
    },
    {
      "cell_type": "markdown",
      "source": [],
      "metadata": {
        "id": "b3RjjxM-6kd6"
      }
    },
    {
      "cell_type": "markdown",
      "source": [
        "## ✅ Conclusion\n",
        "- Implemented **AES-CBC** encryption/decryption for **both text and files**.  \n",
        "- Outputs are provided in **Hex** and **Base64** for compatibility with **CyberChef**.  \n",
        "- Verified by encrypting/decrypting within Python and cross-checking with **CyberChef**.  \n",
        "\n",
        "This demonstrates a practical **cybersecurity application** of symmetric encryption.\n"
      ],
      "metadata": {
        "id": "DP5ayi-26nLP"
      }
    }
  ]
}